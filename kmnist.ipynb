{
 "cells": [
  {
   "cell_type": "markdown",
   "metadata": {},
   "source": [
    "# Introduction\n",
    "\n",
    "This project is an introduction to deep learning for image classification using [Keras](https://keras.io/) and [Tensorflow](https://www.tensorflow.org/) and the [Sequential API](https://keras.io/guides/sequential_model/). In it, I build and optimize a multi-layer perceptron feed-forward neural network to classify images from the [KMINST](http://codh.rois.ac.jp/kmnist/index.html.en) dataset. Then, I implement a convolutional neural network and optimize its layers and parameters."
   ]
  },
  {
   "cell_type": "code",
   "execution_count": 1,
   "metadata": {},
   "outputs": [],
   "source": [
    "import matplotlib.pyplot as plt\n",
    "import numpy as np\n",
    "import seaborn as sns\n",
    "import itertools\n",
    "\n",
    "from sklearn import datasets\n",
    "from sklearn.metrics import accuracy_score, confusion_matrix\n",
    "from sklearn.preprocessing import StandardScaler\n",
    "from sklearn.linear_model import SGDClassifier\n",
    "\n",
    "import tensorflow.keras as keras\n",
    "from tensorflow.keras.models import Sequential\n",
    "from tensorflow.keras.layers import Input, Flatten, Dense, Dropout, Rescaling\n",
    "from tensorflow.keras.layers import Conv2D, MaxPooling2D, GlobalMaxPooling2D\n",
    "from tensorflow.keras.optimizers import SGD, RMSprop, Adam\n",
    "\n",
    "from IPython.display import display, Markdown\n",
    "\n",
    "from os import cpu_count\n",
    "\n",
    "plt.style.use('seaborn-dark')"
   ]
  },
  {
   "cell_type": "markdown",
   "metadata": {},
   "source": [
    "# Download, Load, Visualize, and Reshape the Data"
   ]
  },
  {
   "cell_type": "code",
   "execution_count": 2,
   "metadata": {},
   "outputs": [
    {
     "name": "stdout",
     "output_type": "stream",
     "text": [
      "(60000, 28, 28) (60000,) (10000, 28, 28) (10000,)\n"
     ]
    }
   ],
   "source": [
    "X_train = np.load('data/kmnist-train-imgs.npz')['arr_0']\n",
    "y_train = np.load('data/kmnist-train-labels.npz')['arr_0']\n",
    "X_test = np.load('data/kmnist-test-imgs.npz')['arr_0']\n",
    "y_test = np.load('data/kmnist-test-labels.npz')['arr_0']\n",
    "\n",
    "print(X_train.shape, y_train.shape, X_test.shape, y_test.shape)"
   ]
  },
  {
   "cell_type": "markdown",
   "metadata": {},
   "source": [
    "Just like the [MNIST](https://www.tensorflow.org/datasets/catalog/mnist) dataset, we have 60,000 images in the training set and 10,000 images in the test set. Each image is 28x28 pixels."
   ]
  },
  {
   "cell_type": "code",
   "execution_count": 3,
   "metadata": {},
   "outputs": [
    {
     "name": "stdout",
     "output_type": "stream",
     "text": [
      "[[  0   0   0   0   0   0   0   0   0   0   0 118 255 255 124   1   0   0\n",
      "    0   0   0   0   0   0   0   0   0   0]\n",
      " [  0   0   0   0   0   0   0   0   0   0  36 238 255 146   2   0   0   0\n",
      "    0   0   0   0   0   0   0   0   0   0]\n",
      " [  0   0   0   0   0   0   0   0   0  12 203 255 220  14   0   0   0  11\n",
      "  132  95 187  95   0   0   0   0   0   0]\n",
      " [  0   0   0   0   0   0   0   0   0 149 255 251  66   0   0   0   7 168\n",
      "  136  10 223 245  67   0   0   0   0   0]\n",
      " [  0   0   0   0   0   0   0   0  51 247 255 156   1   0   0   0 130 201\n",
      "    9   0 158 255 170   0   0   0   0   0]\n",
      " [  0   0   0   0   0   0   0  11 212 255 226  22   0   0   0  79 240  38\n",
      "    0   0 143 255 197   0   0   0   0   0]\n",
      " [  0   0   0   0   0   0   0 148 255 255 107   0   0   0  33 237 121   0\n",
      "    0   0 144 255 222   0   0   0   0   0]\n",
      " [  0   0   0   0   0   0   0 205 255 178   3   0   0   1 179 208   5   0\n",
      "    0   0 126 255 166   0   0   0   0   0]\n",
      " [  0   0   0   0   0   0   7 245 255  76   0   0   0 124 254 108   0   0\n",
      "    0   0  91 255 156   0   0   0   0   0]\n",
      " [  0   0   0   0   0   0  23 255 239  12   0   0  62 250 225   8   0   0\n",
      "    0   0  78 255 197   0   0   0   0   0]\n",
      " [  0   0   0   0   0   0  48 255 192   0   0  16 207 252  84   0   0   0\n",
      "    0   0  81 255 178   0   0   0   0   0]\n",
      " [  0   0   0   0   0   0  53 255 148   0   0 133 255 148   0   0   0   0\n",
      "    0   0  73 255 157   0   0   0   0   0]\n",
      " [  0   0   0   0   0   0  95 255 143   0 105 252 220  17   0   0   0   0\n",
      "    0   0  79 255  96   0   0   0   0   0]\n",
      " [  0   0   0   0   0   0 149 255 121  58 246 254  79   0   0   0   0   7\n",
      "   53   1 102 255 100   0   0   0   0   0]\n",
      " [  0   0   0   0   0   0 202 255 213 233 255 186   2   0   0   0   0   0\n",
      "   10  47 132 255  97   0   0   0   0   0]\n",
      " [  0   0   0   0   0  16 246 255 255 255 230  19   0   0   0   0   0   0\n",
      "    0   0 144 255  95   0   0   0   0   0]\n",
      " [  0   0   0   0   0  89 255 255 255 243  71   0   0   0   0   0   0   0\n",
      "    0   0 157 255 105   0   0   0   0   0]\n",
      " [  0   0   0   0   0 192 255 255 254  54   0   0   0   0   0   0   0   0\n",
      "    0   0 189 255 104   0   0   0   0   0]\n",
      " [  0   0   0   0  45 252 255 255 252  28   0   0   0   0   0   0   0   0\n",
      "    0   3 233 255 116   0   0   0   0   0]\n",
      " [  0   0   0   0 161 255 255 255 251  23   0   0   0   0   0   0   0   0\n",
      "    0   1 223 255 178   7   0   0   0   0]\n",
      " [  0   0   0  56 252 255 255 255 249  17   0   0   0   0   0   0   0   0\n",
      "    0   0 159 255 255 181  12   0   0   0]\n",
      " [  0   0   0 180 255 255 255 255 250  18   0   0   0   0   0   0   0   0\n",
      "    0   0  39 245 255 255 177   0   0   0]\n",
      " [  0   0  15 252 255 255 255 255 237   5   0   0   0   0   0   0   0   0\n",
      "    0   0   0  97 253 255 231   0   0   0]\n",
      " [  0   0  17 254 243 224 255 255 239   6   0   0   0   0   0   0   0   0\n",
      "    0   0   0  24 241 255 213   0   0   0]\n",
      " [  0   0   5 150  70 103 255 255 168   0   0   0   0   0   0   0   0   0\n",
      "    0   0  35 222 255 174  21   0   0   0]\n",
      " [  0   0   0   0   0  65 255 254  62   0   0   0   0   0   0   0   0   0\n",
      "    0  59 227 246  93   2   0   0   0   0]\n",
      " [  0   0   0   0   0  30 253 186   2   0   0   0   0   0   0   0   0   0\n",
      "   24 240 240  76   0   0   0   0   0   0]\n",
      " [  0   0   0   0   0   8 144  26   0   0   0   0   0   0   0   0   0   0\n",
      "  122 255  90   0   0   0   0   0   0   0]]\n"
     ]
    }
   ],
   "source": [
    "print(X_train[0])"
   ]
  },
  {
   "cell_type": "markdown",
   "metadata": {},
   "source": [
    "Again, just as in the MNIST dataset, the images are grayscale with a value of 0-255 indicating the darkness of the pixel."
   ]
  },
  {
   "cell_type": "code",
   "execution_count": 4,
   "metadata": {},
   "outputs": [
    {
     "data": {
      "text/plain": [
       "{0, 1, 2, 3, 4, 5, 6, 7, 8, 9}"
      ]
     },
     "execution_count": 4,
     "metadata": {},
     "output_type": "execute_result"
    }
   ],
   "source": [
    "set(y_train)"
   ]
  },
  {
   "cell_type": "code",
   "execution_count": 5,
   "metadata": {},
   "outputs": [
    {
     "data": {
      "text/plain": [
       "Text(0, 0.5, 'Count')"
      ]
     },
     "execution_count": 5,
     "metadata": {},
     "output_type": "execute_result"
    },
    {
     "data": {
      "image/png": "[encoded data removed]",
      "text/plain": [
       "<Figure size 432x288 with 1 Axes>"
      ]
     },
     "metadata": {},
     "output_type": "display_data"
    }
   ],
   "source": [
    "sns.histplot(y_train)\n",
    "plt.title('Training Labels Histogram', fontsize=20)\n",
    "plt.xlabel('Class', fontsize=15)\n",
    "plt.ylabel('Count', fontsize=15)"
   ]
  },
  {
   "cell_type": "markdown",
   "metadata": {},
   "source": [
    "Our labels are 0-9 and we have a very balanced training set."
   ]
  },
  {
   "cell_type": "markdown",
   "metadata": {},
   "source": [
    "## Samples of each class\n",
    "Let's look at several samples of each class."
   ]
  },
  {
   "cell_type": "code",
   "execution_count": 6,
   "metadata": {},
   "outputs": [
    {
     "data": {
      "text/plain": [
       "{0: [2, 12, 29, 37, 38, 49, 76, 88, 93, 100],\n",
       " 1: [3, 8, 9, 11, 16, 32, 46, 51, 52, 53],\n",
       " 2: [5, 26, 55, 56, 74, 79, 90, 91, 105, 122],\n",
       " 3: [21, 54, 59, 69, 73, 80, 98, 107, 112, 146],\n",
       " 4: [4, 6, 58, 62, 77, 109, 113, 116, 121, 147],\n",
       " 5: [10, 13, 19, 23, 33, 35, 50, 60, 61, 85],\n",
       " 6: [15, 24, 25, 28, 31, 41, 48, 57, 63, 64],\n",
       " 7: [1, 14, 17, 20, 22, 27, 42, 43, 44, 66],\n",
       " 8: [0, 7, 36, 39, 40, 45, 67, 68, 78, 92],\n",
       " 9: [18, 30, 34, 47, 71, 72, 82, 83, 101, 103]}"
      ]
     },
     "execution_count": 6,
     "metadata": {},
     "output_type": "execute_result"
    }
   ],
   "source": [
    "samples = 10\n",
    "label_sample_indexes = dict()\n",
    "for label in set(y_train):\n",
    "    label_sample_indexes[label] = [i for i,x in enumerate(y_train) if x==label][0:samples]\n",
    "label_sample_indexes"
   ]
  },
  {
   "cell_type": "code",
   "execution_count": 7,
   "metadata": {},
   "outputs": [
    {
     "data": {
      "image/png": "[encoded data removed]",
      "text/plain": [
       "<Figure size 720x1440 with 100 Axes>"
      ]
     },
     "metadata": {},
     "output_type": "display_data"
    }
   ],
   "source": [
    "labels = label_sample_indexes.keys()\n",
    "_, axes = plt.subplots(nrows=len(labels), ncols=samples, figsize=(10, 20))\n",
    "for ax_row, label in zip(axes, labels):\n",
    "    for ax, image in zip(ax_row, X_train[label_sample_indexes[label]]):\n",
    "        ax.set_axis_off()\n",
    "        ax.imshow(image, cmap=plt.cm.gray_r, interpolation='nearest')\n",
    "        ax.set_title(f\"Training: {label}\")"
   ]
  },
  {
   "cell_type": "markdown",
   "metadata": {},
   "source": [
    "## Reshaping the Data\n",
    "\n",
    "Here I will flatten the image itself into a 1D array."
   ]
  },
  {
   "cell_type": "code",
   "execution_count": 8,
   "metadata": {},
   "outputs": [
    {
     "name": "stdout",
     "output_type": "stream",
     "text": [
      "(60000, 784) (10000, 784)\n"
     ]
    }
   ],
   "source": [
    "train_shape = X_train.shape\n",
    "X_train_flattened = X_train.reshape(train_shape[0], train_shape[1] * train_shape[2])\n",
    "test_shape = X_test.shape\n",
    "X_test_flattened = X_test.reshape(test_shape[0], test_shape[1] * test_shape[2])\n",
    "\n",
    "print(X_train_flattened.shape, X_test_flattened.shape)"
   ]
  },
  {
   "cell_type": "code",
   "execution_count": 9,
   "metadata": {},
   "outputs": [
    {
     "name": "stdout",
     "output_type": "stream",
     "text": [
      "Average: 0.800933357655329\n",
      "Std dev: 0.9999999999997488\n"
     ]
    }
   ],
   "source": [
    "scaler = StandardScaler(with_mean=False, with_std=True)\n",
    "X_train_scaled = scaler.fit_transform(X_train_flattened)\n",
    "X_test_scaled = scaler.transform(X_test_flattened)\n",
    "print(\"Average:\", np.mean(X_train_scaled[:, 350]))\n",
    "print(\"Std dev:\", np.std(X_train_scaled[:, 350]))"
   ]
  },
  {
   "cell_type": "markdown",
   "metadata": {},
   "source": [
    "# Classification with Logistic Regression\n",
    "\n",
    "As in the example, first I'll perform a logistic regression classification to compare, later, with the deep learning models."
   ]
  },
  {
   "cell_type": "code",
   "execution_count": 10,
   "metadata": {},
   "outputs": [
    {
     "name": "stdout",
     "output_type": "stream",
     "text": [
      "Accuracy: 65.45\n",
      "Confusion Matrix:\n",
      "[[666   7  10  49  39  90  10  30  45  54]\n",
      " [  2 660  59  19  24  19  76  13  30  98]\n",
      " [  5  41 583  34  29  25  96  16  52 119]\n",
      " [  2  43  47 751  10  34  37  20  18  38]\n",
      " [ 57  59  43  35 564  15  49  25  27 126]\n",
      " [ 12  43  58  17  17 684  50   6  57  56]\n",
      " [  6  30  93  15  18  13 744  32   7  42]\n",
      " [ 20  38  22  25  86  32  77 510  79 111]\n",
      " [  4  62  57  55   5  29  60  11 654  63]\n",
      " [ 11  63  51   8  47  23  25  12  31 729]]\n"
     ]
    }
   ],
   "source": [
    "sgd = SGDClassifier(loss=\"log\", n_jobs=cpu_count())\n",
    "sgd.fit(X_train_scaled, y_train)\n",
    "\n",
    "y_predicted = sgd.predict(X_test_scaled)\n",
    "\n",
    "acc = 100. * accuracy_score(y_test, y_predicted)\n",
    "cm = confusion_matrix(y_test, y_predicted)\n",
    "\n",
    "print(f\"Accuracy: {acc:.2f}\")\n",
    "print(\"Confusion Matrix:\")\n",
    "print(cm)"
   ]
  },
  {
   "cell_type": "markdown",
   "metadata": {},
   "source": [
    "The logistic regression performed with an accuracy of about 65%."
   ]
  },
  {
   "cell_type": "markdown",
   "metadata": {},
   "source": [
    "# Classification with Multi-Layer Perceptron\n",
    "\n",
    "For this multiclass classification problem I will choose the [sparse_categorical_crossentropy](https://keras.io/api/losses/probabilistic_losses/#sparsecategoricalcrossentropy-class) for the probabilistic loss function since we have a multiclass problem and our classes are represented as integers (i.e., not one-hot encoded). I'll also begin with the [SGD](https://keras.io/api/optimizers/sgd/) optimizer as I have worked with this the most in class so far.\n",
    "\n",
    "\n"
   ]
  },
  {
   "cell_type": "code",
   "execution_count": 11,
   "metadata": {},
   "outputs": [],
   "source": [
    "def build_model(n_hidden=2, n_neurons=8, dropout=None, loss='sparse_categorical_crossentropy', optimizer=SGD()):\n",
    "    model = Sequential()\n",
    "    model.add(Input(shape=(28, 28)))\n",
    "    model.add(Rescaling(scale=1./255))\n",
    "    model.add(Flatten())\n",
    "    for hidden_layer in range(n_hidden):\n",
    "        model.add(Dense(n_neurons, activation='relu'))\n",
    "        if dropout:\n",
    "            model.add(Dropout(dropout))\n",
    "    model.add(Dense(len(labels), activation='softmax'))\n",
    "    model.summary()\n",
    "    model.compile(loss=loss, optimizer=optimizer, metrics=['accuracy'])\n",
    "    return model\n"
   ]
  },
  {
   "cell_type": "code",
   "execution_count": 12,
   "metadata": {},
   "outputs": [],
   "source": [
    "def fit_and_predict(model, batch_size=256, epochs=10):\n",
    "    model.fit(X_train, y_train, batch_size=batch_size, epochs=epochs)\n",
    "    predicted_probabilities = model.predict(X_test)\n",
    "    predicted_classes = np.argmax(predicted_probabilities, axis=1)\n",
    "    acc = 100. * accuracy_score(y_test, predicted_classes)\n",
    "    cm = confusion_matrix(y_test, predicted_classes)\n",
    "\n",
    "    return acc, cm"
   ]
  },
  {
   "cell_type": "code",
   "execution_count": 13,
   "metadata": {},
   "outputs": [
    {
     "name": "stdout",
     "output_type": "stream",
     "text": [
      "Model: \"sequential\"\n",
      "_________________________________________________________________\n",
      " Layer (type)                Output Shape              Param #   \n",
      "=================================================================\n",
      " rescaling (Rescaling)       (None, 28, 28)            0         \n",
      "                                                                 \n",
      " flatten (Flatten)           (None, 784)               0         \n",
      "                                                                 \n",
      " dense (Dense)               (None, 8)                 6280      \n",
      "                                                                 \n",
      " dense_1 (Dense)             (None, 8)                 72        \n",
      "                                                                 \n",
      " dense_2 (Dense)             (None, 10)                90        \n",
      "                                                                 \n",
      "=================================================================\n",
      "Total params: 6,442\n",
      "Trainable params: 6,442\n",
      "Non-trainable params: 0\n",
      "_________________________________________________________________\n"
     ]
    }
   ],
   "source": [
    "model = build_model()"
   ]
  },
  {
   "cell_type": "code",
   "execution_count": 14,
   "metadata": {},
   "outputs": [
    {
     "name": "stdout",
     "output_type": "stream",
     "text": [
      "Epoch 1/10\n",
      "235/235 [==============================] - 0s 771us/step - loss: 2.1218 - accuracy: 0.2137\n",
      "Epoch 2/10\n",
      "235/235 [==============================] - 0s 767us/step - loss: 1.7675 - accuracy: 0.4309\n",
      "Epoch 3/10\n",
      "235/235 [==============================] - 0s 760us/step - loss: 1.5186 - accuracy: 0.5258\n",
      "Epoch 4/10\n",
      "235/235 [==============================] - 0s 784us/step - loss: 1.3664 - accuracy: 0.5683\n",
      "Epoch 5/10\n",
      "235/235 [==============================] - 0s 771us/step - loss: 1.2622 - accuracy: 0.5939\n",
      "Epoch 6/10\n",
      "235/235 [==============================] - 0s 754us/step - loss: 1.1788 - accuracy: 0.6146\n",
      "Epoch 7/10\n",
      "235/235 [==============================] - 0s 754us/step - loss: 1.1091 - accuracy: 0.6324\n",
      "Epoch 8/10\n",
      "235/235 [==============================] - 0s 754us/step - loss: 1.0506 - accuracy: 0.6509\n",
      "Epoch 9/10\n",
      "235/235 [==============================] - 0s 754us/step - loss: 1.0004 - accuracy: 0.6735\n",
      "Epoch 10/10\n",
      "235/235 [==============================] - 0s 754us/step - loss: 0.9562 - accuracy: 0.6932\n"
     ]
    }
   ],
   "source": [
    "acc, cm = fit_and_predict(model)"
   ]
  },
  {
   "cell_type": "code",
   "execution_count": 15,
   "metadata": {},
   "outputs": [
    {
     "name": "stdout",
     "output_type": "stream",
     "text": [
      "Accuracy: 54.26%\n",
      "Confusion Matrix:\n",
      "[[737   1   1  10  76  59   1  50  35  30]\n",
      " [  7 538 125  10  22   0  98   8 134  58]\n",
      " [  2 135 357  36  54   4 148  69 143  52]\n",
      " [ 10  80  24 662  19  24  15  12 152   2]\n",
      " [ 68  37  94  26 596  10  60  42  30  37]\n",
      " [  7  64  76  16  31 252 262   1 267  24]\n",
      " [  2  50 131   5  95   1 654  26  32   4]\n",
      " [ 14  88 108  11 163   0  12 475  16 113]\n",
      " [ 15 155  31  65  39  63  38   8 561  25]\n",
      " [ 30  93 117   2  86   1  14  48  15 594]]\n"
     ]
    }
   ],
   "source": [
    "print(f\"Accuracy: {acc:.2f}%\")\n",
    "print(f\"Confusion Matrix:\\n{cm}\")"
   ]
  },
  {
   "cell_type": "markdown",
   "metadata": {},
   "source": [
    "## Optimize the Model"
   ]
  },
  {
   "cell_type": "code",
   "execution_count": null,
   "metadata": {},
   "outputs": [],
   "source": [
    "build_model_params = {\n",
    "    'n_hidden': [0, 1, 2],\n",
    "    'n_neurons': [32, 128, 512],\n",
    "    'dropout': [.1, .2],\n",
    "    'optimizer': [SGD(), RMSprop(), Adam()]\n",
    "}\n",
    "fit_and_predict_params = {\n",
    "    'epochs': [25, 50]\n",
    "}\n",
    "\n",
    "keys, values = zip(*build_model_params.items())\n",
    "build_model_kwargses = [dict(zip(keys, v)) for v in itertools.product(*values)]\n",
    "keys, values = zip(*fit_and_predict_params.items())\n",
    "fit_and_predict_kwargses = [dict(zip(keys, v)) for v in itertools.product(*values)]\n",
    "\n",
    "results = []\n",
    "for build_model_kwargs in build_model_kwargses:\n",
    "    for fit_and_predict_kwargs in fit_and_predict_kwargses:\n",
    "        model = build_model(**build_model_kwargs)\n",
    "        acc, cm = fit_and_predict(model, **fit_and_predict_kwargs)\n",
    "        results.append((build_model_kwargs, fit_and_predict_kwargs, acc, cm))\n"
   ]
  },
  {
   "cell_type": "code",
   "execution_count": 17,
   "metadata": {},
   "outputs": [
    {
     "data": {
      "text/markdown": [
       "|accuracy|n_hidden|n_neurons|dropout|optimizer|epochs|\n",
       "|--------|--------|---------|-------|---------|------|\n",
       "|66.96%|0|32|0.1|<class 'keras.optimizer_v2.gradient_descent.SGD'>|25|\n",
       "|68.59%|0|32|0.1|<class 'keras.optimizer_v2.gradient_descent.SGD'>|50|\n",
       "|70.34%|0|32|0.1|<class 'keras.optimizer_v2.rmsprop.RMSprop'>|25|\n",
       "|70.19%|0|32|0.1|<class 'keras.optimizer_v2.rmsprop.RMSprop'>|50|\n",
       "|70.24%|0|32|0.1|<class 'keras.optimizer_v2.adam.Adam'>|25|\n",
       "|70.02%|0|32|0.1|<class 'keras.optimizer_v2.adam.Adam'>|50|\n",
       "|66.69%|0|32|0.2|<class 'keras.optimizer_v2.gradient_descent.SGD'>|25|\n",
       "|68.66%|0|32|0.2|<class 'keras.optimizer_v2.gradient_descent.SGD'>|50|\n",
       "|70.28%|0|32|0.2|<class 'keras.optimizer_v2.rmsprop.RMSprop'>|25|\n",
       "|70.24%|0|32|0.2|<class 'keras.optimizer_v2.rmsprop.RMSprop'>|50|\n",
       "|69.98%|0|32|0.2|<class 'keras.optimizer_v2.adam.Adam'>|25|\n",
       "|69.86%|0|32|0.2|<class 'keras.optimizer_v2.adam.Adam'>|50|\n",
       "|66.72%|0|128|0.1|<class 'keras.optimizer_v2.gradient_descent.SGD'>|25|\n",
       "|68.63%|0|128|0.1|<class 'keras.optimizer_v2.gradient_descent.SGD'>|50|\n",
       "|70.37%|0|128|0.1|<class 'keras.optimizer_v2.rmsprop.RMSprop'>|25|\n",
       "|69.97%|0|128|0.1|<class 'keras.optimizer_v2.rmsprop.RMSprop'>|50|\n",
       "|70.24%|0|128|0.1|<class 'keras.optimizer_v2.adam.Adam'>|25|\n",
       "|69.88%|0|128|0.1|<class 'keras.optimizer_v2.adam.Adam'>|50|\n",
       "|67.27%|0|128|0.2|<class 'keras.optimizer_v2.gradient_descent.SGD'>|25|\n",
       "|68.38%|0|128|0.2|<class 'keras.optimizer_v2.gradient_descent.SGD'>|50|\n",
       "|70.60%|0|128|0.2|<class 'keras.optimizer_v2.rmsprop.RMSprop'>|25|\n",
       "|69.95%|0|128|0.2|<class 'keras.optimizer_v2.rmsprop.RMSprop'>|50|\n",
       "|70.10%|0|128|0.2|<class 'keras.optimizer_v2.adam.Adam'>|25|\n",
       "|70.04%|0|128|0.2|<class 'keras.optimizer_v2.adam.Adam'>|50|\n",
       "|66.71%|0|512|0.1|<class 'keras.optimizer_v2.gradient_descent.SGD'>|25|\n",
       "|68.56%|0|512|0.1|<class 'keras.optimizer_v2.gradient_descent.SGD'>|50|\n",
       "|70.28%|0|512|0.1|<class 'keras.optimizer_v2.rmsprop.RMSprop'>|25|\n",
       "|69.93%|0|512|0.1|<class 'keras.optimizer_v2.rmsprop.RMSprop'>|50|\n",
       "|70.04%|0|512|0.1|<class 'keras.optimizer_v2.adam.Adam'>|25|\n",
       "|70.30%|0|512|0.1|<class 'keras.optimizer_v2.adam.Adam'>|50|\n",
       "|66.69%|0|512|0.2|<class 'keras.optimizer_v2.gradient_descent.SGD'>|25|\n",
       "|68.38%|0|512|0.2|<class 'keras.optimizer_v2.gradient_descent.SGD'>|50|\n",
       "|69.75%|0|512|0.2|<class 'keras.optimizer_v2.rmsprop.RMSprop'>|25|\n",
       "|69.92%|0|512|0.2|<class 'keras.optimizer_v2.rmsprop.RMSprop'>|50|\n",
       "|69.95%|0|512|0.2|<class 'keras.optimizer_v2.adam.Adam'>|25|\n",
       "|70.19%|0|512|0.2|<class 'keras.optimizer_v2.adam.Adam'>|50|\n",
       "|73.31%|1|32|0.1|<class 'keras.optimizer_v2.gradient_descent.SGD'>|25|\n",
       "|76.27%|1|32|0.1|<class 'keras.optimizer_v2.gradient_descent.SGD'>|50|\n",
       "|82.59%|1|32|0.1|<class 'keras.optimizer_v2.rmsprop.RMSprop'>|25|\n",
       "|83.50%|1|32|0.1|<class 'keras.optimizer_v2.rmsprop.RMSprop'>|50|\n",
       "|82.25%|1|32|0.1|<class 'keras.optimizer_v2.adam.Adam'>|25|\n",
       "|82.98%|1|32|0.1|<class 'keras.optimizer_v2.adam.Adam'>|50|\n",
       "|72.61%|1|32|0.2|<class 'keras.optimizer_v2.gradient_descent.SGD'>|25|\n",
       "|75.90%|1|32|0.2|<class 'keras.optimizer_v2.gradient_descent.SGD'>|50|\n",
       "|80.67%|1|32|0.2|<class 'keras.optimizer_v2.rmsprop.RMSprop'>|25|\n",
       "|81.06%|1|32|0.2|<class 'keras.optimizer_v2.rmsprop.RMSprop'>|50|\n",
       "|79.68%|1|32|0.2|<class 'keras.optimizer_v2.adam.Adam'>|25|\n",
       "|80.96%|1|32|0.2|<class 'keras.optimizer_v2.adam.Adam'>|50|\n",
       "|76.77%|1|128|0.1|<class 'keras.optimizer_v2.gradient_descent.SGD'>|25|\n",
       "|80.97%|1|128|0.1|<class 'keras.optimizer_v2.gradient_descent.SGD'>|50|\n",
       "|89.65%|1|128|0.1|<class 'keras.optimizer_v2.rmsprop.RMSprop'>|25|\n",
       "|89.63%|1|128|0.1|<class 'keras.optimizer_v2.rmsprop.RMSprop'>|50|\n",
       "|89.34%|1|128|0.1|<class 'keras.optimizer_v2.adam.Adam'>|25|\n",
       "|89.25%|1|128|0.1|<class 'keras.optimizer_v2.adam.Adam'>|50|\n",
       "|76.38%|1|128|0.2|<class 'keras.optimizer_v2.gradient_descent.SGD'>|25|\n",
       "|79.96%|1|128|0.2|<class 'keras.optimizer_v2.gradient_descent.SGD'>|50|\n",
       "|89.04%|1|128|0.2|<class 'keras.optimizer_v2.rmsprop.RMSprop'>|25|\n",
       "|89.59%|1|128|0.2|<class 'keras.optimizer_v2.rmsprop.RMSprop'>|50|\n",
       "|89.50%|1|128|0.2|<class 'keras.optimizer_v2.adam.Adam'>|25|\n",
       "|88.84%|1|128|0.2|<class 'keras.optimizer_v2.adam.Adam'>|50|\n",
       "|76.90%|1|512|0.1|<class 'keras.optimizer_v2.gradient_descent.SGD'>|25|\n",
       "|81.96%|1|512|0.1|<class 'keras.optimizer_v2.gradient_descent.SGD'>|50|\n",
       "|91.45%|1|512|0.1|<class 'keras.optimizer_v2.rmsprop.RMSprop'>|25|\n",
       "|92.39%|1|512|0.1|<class 'keras.optimizer_v2.rmsprop.RMSprop'>|50|\n",
       "|92.10%|1|512|0.1|<class 'keras.optimizer_v2.adam.Adam'>|25|\n",
       "|92.33%|1|512|0.1|<class 'keras.optimizer_v2.adam.Adam'>|50|\n",
       "|77.37%|1|512|0.2|<class 'keras.optimizer_v2.gradient_descent.SGD'>|25|\n",
       "|81.61%|1|512|0.2|<class 'keras.optimizer_v2.gradient_descent.SGD'>|50|\n",
       "|92.10%|1|512|0.2|<class 'keras.optimizer_v2.rmsprop.RMSprop'>|25|\n",
       "|91.68%|1|512|0.2|<class 'keras.optimizer_v2.rmsprop.RMSprop'>|50|\n",
       "|91.42%|1|512|0.2|<class 'keras.optimizer_v2.adam.Adam'>|25|\n",
       "|92.03%|1|512|0.2|<class 'keras.optimizer_v2.adam.Adam'>|50|\n",
       "|74.63%|2|32|0.1|<class 'keras.optimizer_v2.gradient_descent.SGD'>|25|\n",
       "|78.34%|2|32|0.1|<class 'keras.optimizer_v2.gradient_descent.SGD'>|50|\n",
       "|82.82%|2|32|0.1|<class 'keras.optimizer_v2.rmsprop.RMSprop'>|25|\n",
       "|83.22%|2|32|0.1|<class 'keras.optimizer_v2.rmsprop.RMSprop'>|50|\n",
       "|82.68%|2|32|0.1|<class 'keras.optimizer_v2.adam.Adam'>|25|\n",
       "|82.54%|2|32|0.1|<class 'keras.optimizer_v2.adam.Adam'>|50|\n",
       "|72.18%|2|32|0.2|<class 'keras.optimizer_v2.gradient_descent.SGD'>|25|\n",
       "|76.83%|2|32|0.2|<class 'keras.optimizer_v2.gradient_descent.SGD'>|50|\n",
       "|80.75%|2|32|0.2|<class 'keras.optimizer_v2.rmsprop.RMSprop'>|25|\n",
       "|80.94%|2|32|0.2|<class 'keras.optimizer_v2.rmsprop.RMSprop'>|50|\n",
       "|78.73%|2|32|0.2|<class 'keras.optimizer_v2.adam.Adam'>|25|\n",
       "|79.85%|2|32|0.2|<class 'keras.optimizer_v2.adam.Adam'>|50|\n",
       "|78.05%|2|128|0.1|<class 'keras.optimizer_v2.gradient_descent.SGD'>|25|\n",
       "|82.95%|2|128|0.1|<class 'keras.optimizer_v2.gradient_descent.SGD'>|50|\n",
       "|90.51%|2|128|0.1|<class 'keras.optimizer_v2.rmsprop.RMSprop'>|25|\n",
       "|90.24%|2|128|0.1|<class 'keras.optimizer_v2.rmsprop.RMSprop'>|50|\n",
       "|91.11%|2|128|0.1|<class 'keras.optimizer_v2.adam.Adam'>|25|\n",
       "|90.34%|2|128|0.1|<class 'keras.optimizer_v2.adam.Adam'>|50|\n",
       "|76.60%|2|128|0.2|<class 'keras.optimizer_v2.gradient_descent.SGD'>|25|\n",
       "|82.14%|2|128|0.2|<class 'keras.optimizer_v2.gradient_descent.SGD'>|50|\n",
       "|89.93%|2|128|0.2|<class 'keras.optimizer_v2.rmsprop.RMSprop'>|25|\n",
       "|89.96%|2|128|0.2|<class 'keras.optimizer_v2.rmsprop.RMSprop'>|50|\n",
       "|89.37%|2|128|0.2|<class 'keras.optimizer_v2.adam.Adam'>|25|\n",
       "|89.50%|2|128|0.2|<class 'keras.optimizer_v2.adam.Adam'>|50|\n",
       "|79.84%|2|512|0.1|<class 'keras.optimizer_v2.gradient_descent.SGD'>|25|\n",
       "|85.30%|2|512|0.1|<class 'keras.optimizer_v2.gradient_descent.SGD'>|50|\n",
       "|91.40%|2|512|0.1|<class 'keras.optimizer_v2.rmsprop.RMSprop'>|25|\n",
       "|92.58%|2|512|0.1|<class 'keras.optimizer_v2.rmsprop.RMSprop'>|50|\n",
       "|92.10%|2|512|0.1|<class 'keras.optimizer_v2.adam.Adam'>|25|\n",
       "|92.32%|2|512|0.1|<class 'keras.optimizer_v2.adam.Adam'>|50|\n",
       "|79.77%|2|512|0.2|<class 'keras.optimizer_v2.gradient_descent.SGD'>|25|\n",
       "|84.51%|2|512|0.2|<class 'keras.optimizer_v2.gradient_descent.SGD'>|50|\n",
       "|92.15%|2|512|0.2|<class 'keras.optimizer_v2.rmsprop.RMSprop'>|25|\n",
       "|92.83%|2|512|0.2|<class 'keras.optimizer_v2.rmsprop.RMSprop'>|50|\n",
       "|92.53%|2|512|0.2|<class 'keras.optimizer_v2.adam.Adam'>|25|\n",
       "|91.68%|2|512|0.2|<class 'keras.optimizer_v2.adam.Adam'>|50|\n"
      ],
      "text/plain": [
       "<IPython.core.display.Markdown object>"
      ]
     },
     "metadata": {},
     "output_type": "display_data"
    }
   ],
   "source": [
    "best_acc = 0\n",
    "md =  \"|accuracy|n_hidden|n_neurons|dropout|optimizer|epochs|\\n\"\n",
    "md += \"|--------|--------|---------|-------|---------|------|\\n\"\n",
    "for result in results:\n",
    "    acc = result[2]\n",
    "    if acc > best_acc:\n",
    "        best_acc = acc\n",
    "        best_build_model_params = result[0]\n",
    "        best_fit_and_predict_params = result[1]\n",
    "        best_cm = result[3]\n",
    "    md += f\"|{acc:.2f}%|{result[0]['n_hidden']}|{result[0]['n_neurons']}|{result[0]['dropout']}|{type(result[0]['optimizer'])}|{result[1]['epochs']}|\\n\"\n",
    "display(Markdown(md))"
   ]
  },
  {
   "cell_type": "code",
   "execution_count": 18,
   "metadata": {},
   "outputs": [
    {
     "name": "stdout",
     "output_type": "stream",
     "text": [
      "\n",
      "Best accuracy: 92.83% - {'n_hidden': 2, 'n_neurons': 512, 'dropout': 0.2, 'optimizer': <keras.optimizer_v2.rmsprop.RMSprop object at 0x000001CC624D9C90>} {'epochs': 50}\n",
      "\n",
      "Best Confusion Matrix:\n",
      "[[946   1   2   0  14  11   2  17   7   0]\n",
      " [  1 894  15   1  13   7  34  11  12  12]\n",
      " [ 11   5 876  54   6  13   6  11   9   9]\n",
      " [  1   1  14 964   3   7   1   4   2   3]\n",
      " [ 19  16   4   9 901   6  10  13  18   4]\n",
      " [  2   7  17   7   1 943  14   3   2   4]\n",
      " [  5   7  18   5  11   0 945   4   3   2]\n",
      " [  5   3   7   1   1   4   9 956   4  10]\n",
      " [ 11  18   5  21   3   8   5   2 924   3]\n",
      " [ 11   4  14   6   8   2   8   6   7 934]]\n"
     ]
    }
   ],
   "source": [
    "print(f\"\\nBest accuracy: {best_acc:.2f}% - {best_build_model_params} {best_fit_and_predict_params}\\n\")\n",
    "print(\"Best Confusion Matrix:\")\n",
    "print(best_cm)"
   ]
  },
  {
   "cell_type": "markdown",
   "metadata": {},
   "source": [
    "More hidden layers, more neurons per layer, and the [Adam]() optimizer performed the best. Accuracy is now nearly 93%."
   ]
  },
  {
   "cell_type": "markdown",
   "metadata": {},
   "source": [
    "# Implementing a Convolutional Neural Network\n",
    "\n",
    "For this, I will begin with my best parameters from the multi-layer perceptron model: 2 hidden Dense layers, 512 neurons per dense layer, with a .2 dropout and the [Adam](https://keras.io/api/optimizers/adam/) optimizer."
   ]
  },
  {
   "cell_type": "code",
   "execution_count": 19,
   "metadata": {},
   "outputs": [],
   "source": [
    "def build_cnn_model(\n",
    "    n_filters=[32, 64], kernel_size=(3, 3), n_hidden=2, pooling=MaxPooling2D(pool_size=(2, 2)),\n",
    "    n_neurons=512, dropout=.2, loss='sparse_categorical_crossentropy', optimizer=Adam()):\n",
    "    \n",
    "    model = Sequential()\n",
    "\n",
    "    model.add(Input(shape=(28, 28, 1)))\n",
    "    model.add(Rescaling(scale=1./255))\n",
    "    \n",
    "    for filters in n_filters:\n",
    "        model.add(Conv2D(filters=filters, kernel_size=kernel_size))\n",
    "\n",
    "    if pooling:\n",
    "        model.add(pooling)\n",
    "    \n",
    "    if pooling is None or type(pooling) is MaxPooling2D:\n",
    "        model.add(Flatten())\n",
    "\n",
    "    for hidden_layer in range(n_hidden):\n",
    "        model.add(Dense(n_neurons, activation='relu'))\n",
    "        if dropout:\n",
    "            model.add(Dropout(dropout))\n",
    "    model.add(Dense(len(labels), activation='softmax'))\n",
    "    model.summary()\n",
    "    model.compile(loss=loss, optimizer=optimizer, metrics=['accuracy'])\n",
    "    return model"
   ]
  },
  {
   "cell_type": "code",
   "execution_count": 20,
   "metadata": {},
   "outputs": [
    {
     "name": "stdout",
     "output_type": "stream",
     "text": [
      "Model: \"sequential_109\"\n",
      "_________________________________________________________________\n",
      " Layer (type)                Output Shape              Param #   \n",
      "=================================================================\n",
      " rescaling_109 (Rescaling)   (None, 28, 28, 1)         0         \n",
      "                                                                 \n",
      " conv2d (Conv2D)             (None, 26, 26, 32)        320       \n",
      "                                                                 \n",
      " conv2d_1 (Conv2D)           (None, 24, 24, 64)        18496     \n",
      "                                                                 \n",
      " max_pooling2d (MaxPooling2D  (None, 12, 12, 64)       0         \n",
      " )                                                               \n",
      "                                                                 \n",
      " flatten_109 (Flatten)       (None, 9216)              0         \n",
      "                                                                 \n",
      " dense_219 (Dense)           (None, 512)               4719104   \n",
      "                                                                 \n",
      " dropout_108 (Dropout)       (None, 512)               0         \n",
      "                                                                 \n",
      " dense_220 (Dense)           (None, 512)               262656    \n",
      "                                                                 \n",
      " dropout_109 (Dropout)       (None, 512)               0         \n",
      "                                                                 \n",
      " dense_221 (Dense)           (None, 10)                5130      \n",
      "                                                                 \n",
      "=================================================================\n",
      "Total params: 5,005,706\n",
      "Trainable params: 5,005,706\n",
      "Non-trainable params: 0\n",
      "_________________________________________________________________\n"
     ]
    }
   ],
   "source": [
    "model = build_cnn_model()"
   ]
  },
  {
   "cell_type": "code",
   "execution_count": 21,
   "metadata": {},
   "outputs": [
    {
     "name": "stdout",
     "output_type": "stream",
     "text": [
      "Epoch 1/10\n",
      "469/469 [==============================] - 34s 72ms/step - loss: 0.2584 - accuracy: 0.9200\n",
      "Epoch 2/10\n",
      "469/469 [==============================] - 34s 72ms/step - loss: 0.0780 - accuracy: 0.9759\n",
      "Epoch 3/10\n",
      "469/469 [==============================] - 34s 72ms/step - loss: 0.0470 - accuracy: 0.9845\n",
      "Epoch 4/10\n",
      "469/469 [==============================] - 34s 72ms/step - loss: 0.0334 - accuracy: 0.9891\n",
      "Epoch 5/10\n",
      "469/469 [==============================] - 34s 72ms/step - loss: 0.0264 - accuracy: 0.9914\n",
      "Epoch 6/10\n",
      "469/469 [==============================] - 34s 72ms/step - loss: 0.0274 - accuracy: 0.9913\n",
      "Epoch 7/10\n",
      "469/469 [==============================] - 34s 72ms/step - loss: 0.0224 - accuracy: 0.9931\n",
      "Epoch 8/10\n",
      "469/469 [==============================] - 34s 72ms/step - loss: 0.0185 - accuracy: 0.9940\n",
      "Epoch 9/10\n",
      "469/469 [==============================] - 34s 72ms/step - loss: 0.0172 - accuracy: 0.9946\n",
      "Epoch 10/10\n",
      "469/469 [==============================] - 34s 72ms/step - loss: 0.0188 - accuracy: 0.9946\n"
     ]
    }
   ],
   "source": [
    "acc, cm = fit_and_predict(model, batch_size=128, epochs=10)"
   ]
  },
  {
   "cell_type": "code",
   "execution_count": 22,
   "metadata": {},
   "outputs": [
    {
     "name": "stdout",
     "output_type": "stream",
     "text": [
      "Accuracy: 93.80%\n",
      "Confusion Matrix:\n",
      "[[947   0   3   1  23   5   1   9   7   4]\n",
      " [  1 917  13   2  17   2  19   2   9  18]\n",
      " [  6   3 867  83  11   6   8   2   8   6]\n",
      " [  0   0   5 989   1   3   1   1   0   0]\n",
      " [ 11   3   2  12 935   2   6   2  25   2]\n",
      " [  1   2  25  19   4 929  10   0   5   5]\n",
      " [  4   0  15   6   9   3 959   1   2   1]\n",
      " [  7   3   5   5   5   1  23 909  21  21]\n",
      " [  1   5   1  10   2   3   4   1 972   1]\n",
      " [  9   1   1   3   8   1   9   3   9 956]]\n"
     ]
    }
   ],
   "source": [
    "print(f\"Accuracy: {acc:.2f}%\")\n",
    "print(f\"Confusion Matrix:\\n{cm}\")"
   ]
  },
  {
   "cell_type": "markdown",
   "metadata": {},
   "source": [
    "## Optimize the CNN Model"
   ]
  },
  {
   "cell_type": "code",
   "execution_count": null,
   "metadata": {},
   "outputs": [],
   "source": [
    "build_model_params = {\n",
    "    'n_filters': [[16], [32, 64]],\n",
    "    'kernel_size': [(5, 5), (7, 7)],\n",
    "    'pooling': [None, MaxPooling2D(pool_size=(2, 2)), GlobalMaxPooling2D()],\n",
    "    'optimizer': [RMSprop(), Adam()]\n",
    "}\n",
    "fit_and_predict_params = {\n",
    "    'batch_size': [64, 128],\n",
    "    'epochs': [10, 25]\n",
    "}\n",
    "\n",
    "keys, values = zip(*build_model_params.items())\n",
    "build_model_kwargses = [dict(zip(keys, v)) for v in itertools.product(*values)]\n",
    "keys, values = zip(*fit_and_predict_params.items())\n",
    "fit_and_predict_kwargses = [dict(zip(keys, v)) for v in itertools.product(*values)]\n",
    "\n",
    "cnn_results = []\n",
    "for build_model_kwargs in build_model_kwargses:\n",
    "    for fit_and_predict_kwargs in fit_and_predict_kwargses:\n",
    "        model = build_cnn_model(**build_model_kwargs)\n",
    "        acc, cm = fit_and_predict(model, **fit_and_predict_kwargs)\n",
    "        cnn_results.append((build_model_kwargs, fit_and_predict_kwargs, acc, cm))"
   ]
  },
  {
   "cell_type": "code",
   "execution_count": 24,
   "metadata": {},
   "outputs": [
    {
     "data": {
      "text/markdown": [
       "|accuracy|n_filters|kernel_size|pooling|optimizer|batch_size|epochs|\n",
       "|--------|---------|-----------|-------|---------|----------|------|\n",
       "|87.78%|[16]|(5, 5)|<class 'NoneType'>|<class 'keras.optimizer_v2.rmsprop.RMSprop'>|64|10|\n",
       "|86.74%|[16]|(5, 5)|<class 'NoneType'>|<class 'keras.optimizer_v2.rmsprop.RMSprop'>|64|25|\n",
       "|90.10%|[16]|(5, 5)|<class 'NoneType'>|<class 'keras.optimizer_v2.rmsprop.RMSprop'>|128|10|\n",
       "|89.41%|[16]|(5, 5)|<class 'NoneType'>|<class 'keras.optimizer_v2.rmsprop.RMSprop'>|128|25|\n",
       "|90.56%|[16]|(5, 5)|<class 'NoneType'>|<class 'keras.optimizer_v2.adam.Adam'>|64|10|\n",
       "|90.88%|[16]|(5, 5)|<class 'NoneType'>|<class 'keras.optimizer_v2.adam.Adam'>|64|25|\n",
       "|90.90%|[16]|(5, 5)|<class 'NoneType'>|<class 'keras.optimizer_v2.adam.Adam'>|128|10|\n",
       "|90.69%|[16]|(5, 5)|<class 'NoneType'>|<class 'keras.optimizer_v2.adam.Adam'>|128|25|\n",
       "|93.65%|[16]|(5, 5)|<class 'keras.layers.pooling.MaxPooling2D'>|<class 'keras.optimizer_v2.rmsprop.RMSprop'>|64|10|\n",
       "|93.44%|[16]|(5, 5)|<class 'keras.layers.pooling.MaxPooling2D'>|<class 'keras.optimizer_v2.rmsprop.RMSprop'>|64|25|\n",
       "|94.15%|[16]|(5, 5)|<class 'keras.layers.pooling.MaxPooling2D'>|<class 'keras.optimizer_v2.rmsprop.RMSprop'>|128|10|\n",
       "|94.01%|[16]|(5, 5)|<class 'keras.layers.pooling.MaxPooling2D'>|<class 'keras.optimizer_v2.rmsprop.RMSprop'>|128|25|\n",
       "|93.37%|[16]|(5, 5)|<class 'keras.layers.pooling.MaxPooling2D'>|<class 'keras.optimizer_v2.adam.Adam'>|64|10|\n",
       "|94.56%|[16]|(5, 5)|<class 'keras.layers.pooling.MaxPooling2D'>|<class 'keras.optimizer_v2.adam.Adam'>|64|25|\n",
       "|93.23%|[16]|(5, 5)|<class 'keras.layers.pooling.MaxPooling2D'>|<class 'keras.optimizer_v2.adam.Adam'>|128|10|\n",
       "|94.06%|[16]|(5, 5)|<class 'keras.layers.pooling.MaxPooling2D'>|<class 'keras.optimizer_v2.adam.Adam'>|128|25|\n",
       "|59.23%|[16]|(5, 5)|<class 'keras.layers.pooling.GlobalMaxPooling2D'>|<class 'keras.optimizer_v2.rmsprop.RMSprop'>|64|10|\n",
       "|62.19%|[16]|(5, 5)|<class 'keras.layers.pooling.GlobalMaxPooling2D'>|<class 'keras.optimizer_v2.rmsprop.RMSprop'>|64|25|\n",
       "|57.19%|[16]|(5, 5)|<class 'keras.layers.pooling.GlobalMaxPooling2D'>|<class 'keras.optimizer_v2.rmsprop.RMSprop'>|128|10|\n",
       "|59.71%|[16]|(5, 5)|<class 'keras.layers.pooling.GlobalMaxPooling2D'>|<class 'keras.optimizer_v2.rmsprop.RMSprop'>|128|25|\n",
       "|60.18%|[16]|(5, 5)|<class 'keras.layers.pooling.GlobalMaxPooling2D'>|<class 'keras.optimizer_v2.adam.Adam'>|64|10|\n",
       "|63.41%|[16]|(5, 5)|<class 'keras.layers.pooling.GlobalMaxPooling2D'>|<class 'keras.optimizer_v2.adam.Adam'>|64|25|\n",
       "|57.30%|[16]|(5, 5)|<class 'keras.layers.pooling.GlobalMaxPooling2D'>|<class 'keras.optimizer_v2.adam.Adam'>|128|10|\n",
       "|61.76%|[16]|(5, 5)|<class 'keras.layers.pooling.GlobalMaxPooling2D'>|<class 'keras.optimizer_v2.adam.Adam'>|128|25|\n",
       "|88.49%|[16]|(7, 7)|<class 'NoneType'>|<class 'keras.optimizer_v2.rmsprop.RMSprop'>|64|10|\n",
       "|87.67%|[16]|(7, 7)|<class 'NoneType'>|<class 'keras.optimizer_v2.rmsprop.RMSprop'>|64|25|\n",
       "|90.32%|[16]|(7, 7)|<class 'NoneType'>|<class 'keras.optimizer_v2.rmsprop.RMSprop'>|128|10|\n",
       "|89.91%|[16]|(7, 7)|<class 'NoneType'>|<class 'keras.optimizer_v2.rmsprop.RMSprop'>|128|25|\n",
       "|90.36%|[16]|(7, 7)|<class 'NoneType'>|<class 'keras.optimizer_v2.adam.Adam'>|64|10|\n",
       "|91.05%|[16]|(7, 7)|<class 'NoneType'>|<class 'keras.optimizer_v2.adam.Adam'>|64|25|\n",
       "|91.43%|[16]|(7, 7)|<class 'NoneType'>|<class 'keras.optimizer_v2.adam.Adam'>|128|10|\n",
       "|91.23%|[16]|(7, 7)|<class 'NoneType'>|<class 'keras.optimizer_v2.adam.Adam'>|128|25|\n",
       "|93.58%|[16]|(7, 7)|<class 'keras.layers.pooling.MaxPooling2D'>|<class 'keras.optimizer_v2.rmsprop.RMSprop'>|64|10|\n",
       "|93.62%|[16]|(7, 7)|<class 'keras.layers.pooling.MaxPooling2D'>|<class 'keras.optimizer_v2.rmsprop.RMSprop'>|64|25|\n",
       "|93.84%|[16]|(7, 7)|<class 'keras.layers.pooling.MaxPooling2D'>|<class 'keras.optimizer_v2.rmsprop.RMSprop'>|128|10|\n",
       "|93.77%|[16]|(7, 7)|<class 'keras.layers.pooling.MaxPooling2D'>|<class 'keras.optimizer_v2.rmsprop.RMSprop'>|128|25|\n",
       "|94.00%|[16]|(7, 7)|<class 'keras.layers.pooling.MaxPooling2D'>|<class 'keras.optimizer_v2.adam.Adam'>|64|10|\n",
       "|94.36%|[16]|(7, 7)|<class 'keras.layers.pooling.MaxPooling2D'>|<class 'keras.optimizer_v2.adam.Adam'>|64|25|\n",
       "|94.09%|[16]|(7, 7)|<class 'keras.layers.pooling.MaxPooling2D'>|<class 'keras.optimizer_v2.adam.Adam'>|128|10|\n",
       "|94.75%|[16]|(7, 7)|<class 'keras.layers.pooling.MaxPooling2D'>|<class 'keras.optimizer_v2.adam.Adam'>|128|25|\n",
       "|68.10%|[16]|(7, 7)|<class 'keras.layers.pooling.GlobalMaxPooling2D'>|<class 'keras.optimizer_v2.rmsprop.RMSprop'>|64|10|\n",
       "|70.62%|[16]|(7, 7)|<class 'keras.layers.pooling.GlobalMaxPooling2D'>|<class 'keras.optimizer_v2.rmsprop.RMSprop'>|64|25|\n",
       "|66.11%|[16]|(7, 7)|<class 'keras.layers.pooling.GlobalMaxPooling2D'>|<class 'keras.optimizer_v2.rmsprop.RMSprop'>|128|10|\n",
       "|71.82%|[16]|(7, 7)|<class 'keras.layers.pooling.GlobalMaxPooling2D'>|<class 'keras.optimizer_v2.rmsprop.RMSprop'>|128|25|\n",
       "|67.95%|[16]|(7, 7)|<class 'keras.layers.pooling.GlobalMaxPooling2D'>|<class 'keras.optimizer_v2.adam.Adam'>|64|10|\n",
       "|72.02%|[16]|(7, 7)|<class 'keras.layers.pooling.GlobalMaxPooling2D'>|<class 'keras.optimizer_v2.adam.Adam'>|64|25|\n",
       "|69.55%|[16]|(7, 7)|<class 'keras.layers.pooling.GlobalMaxPooling2D'>|<class 'keras.optimizer_v2.adam.Adam'>|128|10|\n",
       "|70.80%|[16]|(7, 7)|<class 'keras.layers.pooling.GlobalMaxPooling2D'>|<class 'keras.optimizer_v2.adam.Adam'>|128|25|\n",
       "|85.05%|[32, 64]|(5, 5)|<class 'NoneType'>|<class 'keras.optimizer_v2.rmsprop.RMSprop'>|64|10|\n",
       "|85.07%|[32, 64]|(5, 5)|<class 'NoneType'>|<class 'keras.optimizer_v2.rmsprop.RMSprop'>|64|25|\n",
       "|90.02%|[32, 64]|(5, 5)|<class 'NoneType'>|<class 'keras.optimizer_v2.rmsprop.RMSprop'>|128|10|\n",
       "|89.18%|[32, 64]|(5, 5)|<class 'NoneType'>|<class 'keras.optimizer_v2.rmsprop.RMSprop'>|128|25|\n",
       "|87.01%|[32, 64]|(5, 5)|<class 'NoneType'>|<class 'keras.optimizer_v2.adam.Adam'>|64|10|\n",
       "|89.06%|[32, 64]|(5, 5)|<class 'NoneType'>|<class 'keras.optimizer_v2.adam.Adam'>|64|25|\n",
       "|88.33%|[32, 64]|(5, 5)|<class 'NoneType'>|<class 'keras.optimizer_v2.adam.Adam'>|128|10|\n",
       "|89.57%|[32, 64]|(5, 5)|<class 'NoneType'>|<class 'keras.optimizer_v2.adam.Adam'>|128|25|\n",
       "|93.81%|[32, 64]|(5, 5)|<class 'keras.layers.pooling.MaxPooling2D'>|<class 'keras.optimizer_v2.rmsprop.RMSprop'>|64|10|\n",
       "|94.55%|[32, 64]|(5, 5)|<class 'keras.layers.pooling.MaxPooling2D'>|<class 'keras.optimizer_v2.rmsprop.RMSprop'>|64|25|\n",
       "|94.32%|[32, 64]|(5, 5)|<class 'keras.layers.pooling.MaxPooling2D'>|<class 'keras.optimizer_v2.rmsprop.RMSprop'>|128|10|\n",
       "|94.92%|[32, 64]|(5, 5)|<class 'keras.layers.pooling.MaxPooling2D'>|<class 'keras.optimizer_v2.rmsprop.RMSprop'>|128|25|\n",
       "|93.08%|[32, 64]|(5, 5)|<class 'keras.layers.pooling.MaxPooling2D'>|<class 'keras.optimizer_v2.adam.Adam'>|64|10|\n",
       "|94.65%|[32, 64]|(5, 5)|<class 'keras.layers.pooling.MaxPooling2D'>|<class 'keras.optimizer_v2.adam.Adam'>|64|25|\n",
       "|94.32%|[32, 64]|(5, 5)|<class 'keras.layers.pooling.MaxPooling2D'>|<class 'keras.optimizer_v2.adam.Adam'>|128|10|\n",
       "|94.63%|[32, 64]|(5, 5)|<class 'keras.layers.pooling.MaxPooling2D'>|<class 'keras.optimizer_v2.adam.Adam'>|128|25|\n",
       "|88.01%|[32, 64]|(5, 5)|<class 'keras.layers.pooling.GlobalMaxPooling2D'>|<class 'keras.optimizer_v2.rmsprop.RMSprop'>|64|10|\n",
       "|81.77%|[32, 64]|(5, 5)|<class 'keras.layers.pooling.GlobalMaxPooling2D'>|<class 'keras.optimizer_v2.rmsprop.RMSprop'>|64|25|\n",
       "|88.00%|[32, 64]|(5, 5)|<class 'keras.layers.pooling.GlobalMaxPooling2D'>|<class 'keras.optimizer_v2.rmsprop.RMSprop'>|128|10|\n",
       "|90.23%|[32, 64]|(5, 5)|<class 'keras.layers.pooling.GlobalMaxPooling2D'>|<class 'keras.optimizer_v2.rmsprop.RMSprop'>|128|25|\n",
       "|88.96%|[32, 64]|(5, 5)|<class 'keras.layers.pooling.GlobalMaxPooling2D'>|<class 'keras.optimizer_v2.adam.Adam'>|64|10|\n",
       "|90.81%|[32, 64]|(5, 5)|<class 'keras.layers.pooling.GlobalMaxPooling2D'>|<class 'keras.optimizer_v2.adam.Adam'>|64|25|\n",
       "|90.17%|[32, 64]|(5, 5)|<class 'keras.layers.pooling.GlobalMaxPooling2D'>|<class 'keras.optimizer_v2.adam.Adam'>|128|10|\n",
       "|91.38%|[32, 64]|(5, 5)|<class 'keras.layers.pooling.GlobalMaxPooling2D'>|<class 'keras.optimizer_v2.adam.Adam'>|128|25|\n",
       "|81.82%|[32, 64]|(7, 7)|<class 'NoneType'>|<class 'keras.optimizer_v2.rmsprop.RMSprop'>|64|10|\n",
       "|78.74%|[32, 64]|(7, 7)|<class 'NoneType'>|<class 'keras.optimizer_v2.rmsprop.RMSprop'>|64|25|\n",
       "|90.61%|[32, 64]|(7, 7)|<class 'NoneType'>|<class 'keras.optimizer_v2.rmsprop.RMSprop'>|128|10|\n",
       "|89.39%|[32, 64]|(7, 7)|<class 'NoneType'>|<class 'keras.optimizer_v2.rmsprop.RMSprop'>|128|25|\n",
       "|83.34%|[32, 64]|(7, 7)|<class 'NoneType'>|<class 'keras.optimizer_v2.adam.Adam'>|64|10|\n",
       "|88.34%|[32, 64]|(7, 7)|<class 'NoneType'>|<class 'keras.optimizer_v2.adam.Adam'>|64|25|\n",
       "|89.14%|[32, 64]|(7, 7)|<class 'NoneType'>|<class 'keras.optimizer_v2.adam.Adam'>|128|10|\n",
       "|89.24%|[32, 64]|(7, 7)|<class 'NoneType'>|<class 'keras.optimizer_v2.adam.Adam'>|128|25|\n",
       "|93.23%|[32, 64]|(7, 7)|<class 'keras.layers.pooling.MaxPooling2D'>|<class 'keras.optimizer_v2.rmsprop.RMSprop'>|64|10|\n",
       "|93.00%|[32, 64]|(7, 7)|<class 'keras.layers.pooling.MaxPooling2D'>|<class 'keras.optimizer_v2.rmsprop.RMSprop'>|64|25|\n",
       "|93.60%|[32, 64]|(7, 7)|<class 'keras.layers.pooling.MaxPooling2D'>|<class 'keras.optimizer_v2.rmsprop.RMSprop'>|128|10|\n",
       "|94.07%|[32, 64]|(7, 7)|<class 'keras.layers.pooling.MaxPooling2D'>|<class 'keras.optimizer_v2.rmsprop.RMSprop'>|128|25|\n",
       "|93.75%|[32, 64]|(7, 7)|<class 'keras.layers.pooling.MaxPooling2D'>|<class 'keras.optimizer_v2.adam.Adam'>|64|10|\n",
       "|92.72%|[32, 64]|(7, 7)|<class 'keras.layers.pooling.MaxPooling2D'>|<class 'keras.optimizer_v2.adam.Adam'>|64|25|\n",
       "|93.78%|[32, 64]|(7, 7)|<class 'keras.layers.pooling.MaxPooling2D'>|<class 'keras.optimizer_v2.adam.Adam'>|128|10|\n",
       "|93.99%|[32, 64]|(7, 7)|<class 'keras.layers.pooling.MaxPooling2D'>|<class 'keras.optimizer_v2.adam.Adam'>|128|25|\n",
       "|91.22%|[32, 64]|(7, 7)|<class 'keras.layers.pooling.GlobalMaxPooling2D'>|<class 'keras.optimizer_v2.rmsprop.RMSprop'>|64|10|\n",
       "|91.11%|[32, 64]|(7, 7)|<class 'keras.layers.pooling.GlobalMaxPooling2D'>|<class 'keras.optimizer_v2.rmsprop.RMSprop'>|64|25|\n",
       "|92.01%|[32, 64]|(7, 7)|<class 'keras.layers.pooling.GlobalMaxPooling2D'>|<class 'keras.optimizer_v2.rmsprop.RMSprop'>|128|10|\n",
       "|91.51%|[32, 64]|(7, 7)|<class 'keras.layers.pooling.GlobalMaxPooling2D'>|<class 'keras.optimizer_v2.rmsprop.RMSprop'>|128|25|\n",
       "|92.46%|[32, 64]|(7, 7)|<class 'keras.layers.pooling.GlobalMaxPooling2D'>|<class 'keras.optimizer_v2.adam.Adam'>|64|10|\n",
       "|92.82%|[32, 64]|(7, 7)|<class 'keras.layers.pooling.GlobalMaxPooling2D'>|<class 'keras.optimizer_v2.adam.Adam'>|64|25|\n",
       "|92.82%|[32, 64]|(7, 7)|<class 'keras.layers.pooling.GlobalMaxPooling2D'>|<class 'keras.optimizer_v2.adam.Adam'>|128|10|\n",
       "|93.71%|[32, 64]|(7, 7)|<class 'keras.layers.pooling.GlobalMaxPooling2D'>|<class 'keras.optimizer_v2.adam.Adam'>|128|25|\n"
      ],
      "text/plain": [
       "<IPython.core.display.Markdown object>"
      ]
     },
     "metadata": {},
     "output_type": "display_data"
    }
   ],
   "source": [
    "best_acc = 0\n",
    "md =  \"|accuracy|n_filters|kernel_size|pooling|optimizer|batch_size|epochs|\\n\"\n",
    "md += \"|--------|---------|-----------|-------|---------|----------|------|\\n\"\n",
    "for result in cnn_results:\n",
    "    acc = result[2]\n",
    "    if acc > best_acc:\n",
    "        best_acc = acc\n",
    "        best_build_model_params = result[0]\n",
    "        best_fit_and_predict_params = result[1]\n",
    "        best_cm = result[3]\n",
    "    md += f\"|{acc:.2f}%|{result[0]['n_filters']}|{result[0]['kernel_size']}|{type(result[0]['pooling'])}|{type(result[0]['optimizer'])}|{result[1]['batch_size']}|{result[1]['epochs']}|\\n\"\n",
    "display(Markdown(md))"
   ]
  },
  {
   "cell_type": "code",
   "execution_count": 25,
   "metadata": {},
   "outputs": [
    {
     "name": "stdout",
     "output_type": "stream",
     "text": [
      "\n",
      "Best accuracy: 94.92% - {'n_filters': [32, 64], 'kernel_size': (5, 5), 'pooling': <keras.layers.pooling.MaxPooling2D object at 0x000001CC613F2080>, 'optimizer': <keras.optimizer_v2.rmsprop.RMSprop object at 0x000001CC624C4370>} {'batch_size': 128, 'epochs': 25}\n",
      "\n",
      "Best Confusion Matrix:\n",
      "[[958   1   3   2  10   6   2   9   7   2]\n",
      " [  2 932  12   1  13   2  22   4   8   4]\n",
      " [ 10   2 914  37   5   7   7   8   4   6]\n",
      " [  0   0   6 983   0   6   5   0   0   0]\n",
      " [ 16   2   5  14 930   2   7   3  16   5]\n",
      " [  2   2  24   5   3 942   6   3  10   3]\n",
      " [  4   7  16   2   4   2 955   2   7   1]\n",
      " [  5   3   4   1  10   1  11 954   6   5]\n",
      " [  2   3   3   8   6   7   3   2 965   1]\n",
      " [  6   2   8   2   7   0   8   2   6 959]]\n"
     ]
    }
   ],
   "source": [
    "print(f\"\\nBest accuracy: {best_acc:.2f}% - {best_build_model_params} {best_fit_and_predict_params}\\n\")\n",
    "print(\"Best Confusion Matrix:\")\n",
    "print(best_cm)"
   ]
  }
 ],
 "metadata": {
  "interpreter": {
   "hash": "32a282a87d2449fec7e9b04fa9cf8e162c47c13b3b2e5daacb2cbdfd25191a73"
  },
  "kernelspec": {
   "display_name": "Python 3.10.2 ('.env': venv)",
   "language": "python",
   "name": "python3"
  },
  "language_info": {
   "codemirror_mode": {
    "name": "ipython",
    "version": 3
   },
   "file_extension": ".py",
   "mimetype": "text/x-python",
   "name": "python",
   "nbconvert_exporter": "python",
   "pygments_lexer": "ipython3",
   "version": "3.10.2"
  },
  "orig_nbformat": 4
 },
 "nbformat": 4,
 "nbformat_minor": 2
}
